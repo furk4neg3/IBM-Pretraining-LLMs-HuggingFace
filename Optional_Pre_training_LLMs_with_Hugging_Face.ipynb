{
  "cells": [
    {
      "cell_type": "markdown",
      "metadata": {
        "id": "view-in-github",
        "colab_type": "text"
      },
      "source": [
        "<a href=\"https://colab.research.google.com/github/furk4neg3/IBM-Pretraining-LLMs-HuggingFace/blob/main/Optional_Pre_training_LLMs_with_Hugging_Face.ipynb\" target=\"_parent\"><img src=\"https://colab.research.google.com/assets/colab-badge.svg\" alt=\"Open In Colab\"/></a>"
      ]
    },
    {
      "cell_type": "markdown",
      "metadata": {
        "id": "4v_Rb_uVAgXw"
      },
      "source": [
        "<p style=\"text-align:center\">\n",
        "    <a href=\"https://skills.network\" target=\"_blank\">\n",
        "    <img src=\"https://cf-courses-data.s3.us.cloud-object-storage.appdomain.cloud/assets/logos/SN_web_lightmode.png\" width=\"200\" alt=\"Skills Network Logo\"  />\n",
        "    </a>\n",
        "</p>\n"
      ]
    },
    {
      "cell_type": "markdown",
      "metadata": {
        "id": "KjC4-5y1AgXx"
      },
      "source": [
        "# **Pre-training LLMs with Hugging Face**\n",
        "\n",
        "Estimated time: **45** minutes\n",
        "\n",
        "# Introduction\n",
        "\n",
        "This project aims to introduce you to the process of pretraining large language models (LLMs) using the popular Hugging Face library. Hugging Face is a leading open-source platform for natural language processing that provides a wide range of pretrained models and tools for fine-tuning and deploying these models.\n",
        "\n",
        "You will learn how to load pre-trained models from Hugging Face and make inferences using the Pipeline module. Additionally, you will learn how to further train pre-trained LLMs on your own data (self-supervised fine-tuning). By the end of this lab, you will have a solid understanding of how to pretrain LLMs and store them to later fine-tune for your specific use cases. This will empower you to create powerful and customized natural language processing solutions.\n"
      ]
    },
    {
      "cell_type": "markdown",
      "metadata": {
        "id": "tS30Y7TZAgXy"
      },
      "source": [
        "# __Table of Contents__\n",
        "\n",
        "<ol>\n",
        "    <li><a href=\"#Objectives\">Objectives</a></li>\n",
        "    <li>\n",
        "        <a href=\"#Setup\">Setup</a>\n",
        "        <ol>\n",
        "            <li><a href=\"#Installing-required-libraries\">Installing required libraries</a></li>\n",
        "            <li><a href=\"#Importing-required-libraries\">Importing required libraries</a></li>\n",
        "        </ol>\n",
        "    </li>\n",
        "    <li><a href=\"#Pretraining-and-self-supervised-fine-tuning\">Pretraining and self-supervised fine-tuning</a>\n",
        "        <ol>\n",
        "            <li><a href=\"#Importing-required-datasets\">Importing required datasets</a></li>\n",
        "            <li><a href=\"#Loading-the-saved-model\">Loading the saved model</a></li>\n",
        "            <li><a href=\"#Inferencing-a-pretrained-BERT-model\">Inferencing a pretrained BERT model</a></li>\n",
        "        </ol>\n",
        "    </li>\n",
        "    <li><a href=\"#Exercise\">Exercise</a></li>\n",
        "</ol>\n"
      ]
    },
    {
      "cell_type": "markdown",
      "metadata": {
        "id": "ys1JQ-9PAgXy"
      },
      "source": [
        "---\n"
      ]
    },
    {
      "cell_type": "markdown",
      "metadata": {
        "id": "fMrJ4A5LAgXy"
      },
      "source": [
        "# Objectives\n",
        "\n",
        "After completing this lab, you will be able to:\n",
        "\n",
        "\n",
        " - Load pretrained LLMs from Hugging Face and make inferences using the pipeline module\n",
        " - Train pretrained LLMs on your data\n",
        " - Store LLMs to fine-tune them for specific use cases\n",
        "\n"
      ]
    },
    {
      "cell_type": "markdown",
      "metadata": {
        "id": "P70bg5ucAgXz"
      },
      "source": [
        "---\n"
      ]
    },
    {
      "cell_type": "markdown",
      "metadata": {
        "id": "YtMi2Qv4AgXz"
      },
      "source": [
        "# Setup\n"
      ]
    },
    {
      "cell_type": "markdown",
      "metadata": {
        "id": "dgFT5CujAgXz"
      },
      "source": [
        "### Installing required libraries\n",
        "The following required libraries are pre-installed in the Skills Network Labs environment. However, if you run these notebook commands in a different Jupyter environment (e.g. Watson Studio or Ananconda), you will need to install these libraries by removing the `#` sign before `!pip` in the code cell below:\n",
        "\n",
        "_PS: To run lab this in your own environment, please note that the versions of libraries may differ due to dependencies._\n"
      ]
    },
    {
      "cell_type": "code",
      "execution_count": null,
      "metadata": {
        "id": "V81EaxTgAgXz"
      },
      "outputs": [],
      "source": [
        "# All Libraries required for this lab are listed below. The libraries pre-installed on Skills Network Labs are commented.\n",
        "# !pip install -qy pandas==1.3.4 numpy==1.21.4 seaborn==0.9.0 matplotlib==3.5.0 torch=2.1.0+cu118\n",
        "# - Update a specific package\n",
        "# !pip install pmdarima -U\n",
        "# - Update a package to specific version\n",
        "# !pip install --upgrade pmdarima==2.0.2\n",
        "# Note: If your environment doesn't support \"!pip install\", use \"!mamba install\""
      ]
    },
    {
      "cell_type": "markdown",
      "metadata": {
        "id": "vMhkvLFIAgXz"
      },
      "source": [
        "The following required libraries are __not__ pre-installed in the Skills Network Labs environment. __You will need to run the following cell__ to install them:\n"
      ]
    },
    {
      "cell_type": "code",
      "execution_count": null,
      "metadata": {
        "id": "m6fTdzDCAgX0"
      },
      "outputs": [],
      "source": [
        "#!pip install transformers==4.40.0\n",
        "!pip install -U git+https://github.com/huggingface/transformers\n",
        "!pip install datasets # 2.15.0\n",
        "!pip install portalocker>=2/0.0\n",
        "!pip install -q -U git+https://github.com/huggingface/accelerate.git\n",
        "!pip install torch==2.3.0\n",
        "!pip install -U torchvision\n",
        "!pip install protobuf==3.20.*\n"
      ]
    },
    {
      "cell_type": "markdown",
      "metadata": {
        "id": "E5qC_CK2AgX0"
      },
      "source": [
        "### Importing required libraries\n",
        "\n",
        "_It is recommended that you import all required libraries in one place (here):_\n",
        "* Note: if you got an error after running the cell below, try restarting the Kernel as some packages need a restart to be effective.\n"
      ]
    },
    {
      "cell_type": "code",
      "execution_count": null,
      "metadata": {
        "id": "9kFkMwyMAgX0"
      },
      "outputs": [],
      "source": [
        "import torch\n",
        "from torch.optim.lr_scheduler import LambdaLR\n",
        "from torch.utils.data import DataLoader\n",
        "from torch.optim import AdamW\n",
        "from transformers import AutoConfig,AutoModelForCausalLM,AutoModelForSequenceClassification,BertConfig,BertForMaskedLM,TrainingArguments, Trainer, TrainingArguments\n",
        "from transformers import AutoTokenizer,BertTokenizerFast,TextDataset,DataCollatorForLanguageModeling\n",
        "from transformers import pipeline\n",
        "from datasets import load_dataset\n",
        "\n",
        "from tqdm.auto import tqdm\n",
        "import math\n",
        "import time\n",
        "import os\n",
        "\n",
        "\n",
        "# You can also use this section to suppress warnings generated by your code:\n",
        "def warn(*args, **kwargs):\n",
        "    pass\n",
        "import warnings\n",
        "warnings.warn = warn\n",
        "warnings.filterwarnings('ignore')"
      ]
    },
    {
      "cell_type": "markdown",
      "metadata": {
        "id": "55pIwxA6AgX0"
      },
      "source": [
        "Disable tokenizer parallelism to avoid deadlocks.\n"
      ]
    },
    {
      "cell_type": "code",
      "execution_count": null,
      "metadata": {
        "id": "g-0kTGZEAgX0"
      },
      "outputs": [],
      "source": [
        "# Set the environment variable TOKENIZERS_PARALLELISM to 'false'\n",
        "os.environ['TOKENIZERS_PARALLELISM'] = 'false'\n"
      ]
    },
    {
      "cell_type": "markdown",
      "metadata": {
        "id": "kOrxBmM5AgX1"
      },
      "source": [
        "---\n"
      ]
    },
    {
      "cell_type": "markdown",
      "metadata": {
        "id": "2ozYN3P6AgX1"
      },
      "source": [
        "# Pretraining and self-supervised fine-tuning\n"
      ]
    },
    {
      "cell_type": "markdown",
      "metadata": {
        "id": "1o02JhCqAgX1"
      },
      "source": [
        "Pretraining is a technique used in natural language processing (NLP) to train large language models (LLMs) on a vast corpus of unlabeled text data. The goal is to capture the general patterns and semantic relationships present in natural language, allowing the model to develop a deep understanding of language structure and meaning.\n",
        "\n",
        "The motivation behind pretraining transformers is to address the limitations of traditional NLP approaches that often require significant amounts of labeled data for each specific task. By leveraging the abundance of unlabeled text data, pretraining enables the model to learn fundamental language skills through self-supervised objectives, facilitating transfer learning.\n",
        "\n",
        "The pretraining objectives, such as masked language modeling (MLM) and next sentence prediction (NSP), play a crucial role in the success of transformer models. Pretrained models can be further tuned by training them on domain-specific unlabeled data, which is known as self-supervised fine-tuning.\n",
        "\n",
        "Also, the model can be fine-tuned on specific downstream tasks using labeled data, a process known as supervised fine-tuning, further improving its performance.\n",
        "\n",
        "In the following sections of this lab, you will explore pretraining objectives, loading pretrained models, data preparation, and the fine-tuning process. By the end, you will have a solid understanding of pretraining and self-supervised fine-tuning, empowering you to apply these techniques to solve real-world NLP problems.\n"
      ]
    },
    {
      "cell_type": "markdown",
      "metadata": {
        "id": "Xul4eTXwAgX1"
      },
      "source": [
        "Let's start with loading a pretrained model from Hugging Face and making an inference:\n"
      ]
    },
    {
      "cell_type": "code",
      "execution_count": null,
      "metadata": {
        "colab": {
          "referenced_widgets": [
            "e68886dbe84648a9867417e9d78a1062",
            "9b5366784d64425fa4b11c3f7a34e39c",
            "91a71f4df05c4700bd2285e503662f06",
            "6bc51d23c2d44da3b6a85daa78012e09",
            "22ae6887f1554e30bc5bb757eaec1e8e",
            "245c919069824ae290a1d9981febda99",
            "6749fc9d4a574395a5078c25ecb1f1a1"
          ]
        },
        "id": "SkLVG6P9AgX1",
        "outputId": "ac7bd7ee-e5fb-4e4f-bb83-df54b9c47f90"
      },
      "outputs": [
        {
          "data": {
            "application/vnd.jupyter.widget-view+json": {
              "model_id": "e68886dbe84648a9867417e9d78a1062",
              "version_major": 2,
              "version_minor": 0
            },
            "text/plain": [
              "config.json:   0%|          | 0.00/644 [00:00<?, ?B/s]"
            ]
          },
          "metadata": {},
          "output_type": "display_data"
        },
        {
          "data": {
            "application/vnd.jupyter.widget-view+json": {
              "model_id": "9b5366784d64425fa4b11c3f7a34e39c",
              "version_major": 2,
              "version_minor": 0
            },
            "text/plain": [
              "pytorch_model.bin:   0%|          | 0.00/663M [00:00<?, ?B/s]"
            ]
          },
          "metadata": {},
          "output_type": "display_data"
        },
        {
          "data": {
            "application/vnd.jupyter.widget-view+json": {
              "model_id": "91a71f4df05c4700bd2285e503662f06",
              "version_major": 2,
              "version_minor": 0
            },
            "text/plain": [
              "generation_config.json:   0%|          | 0.00/137 [00:00<?, ?B/s]"
            ]
          },
          "metadata": {},
          "output_type": "display_data"
        },
        {
          "data": {
            "application/vnd.jupyter.widget-view+json": {
              "model_id": "6bc51d23c2d44da3b6a85daa78012e09",
              "version_major": 2,
              "version_minor": 0
            },
            "text/plain": [
              "tokenizer_config.json:   0%|          | 0.00/685 [00:00<?, ?B/s]"
            ]
          },
          "metadata": {},
          "output_type": "display_data"
        },
        {
          "data": {
            "application/vnd.jupyter.widget-view+json": {
              "model_id": "22ae6887f1554e30bc5bb757eaec1e8e",
              "version_major": 2,
              "version_minor": 0
            },
            "text/plain": [
              "vocab.json:   0%|          | 0.00/899k [00:00<?, ?B/s]"
            ]
          },
          "metadata": {},
          "output_type": "display_data"
        },
        {
          "data": {
            "application/vnd.jupyter.widget-view+json": {
              "model_id": "245c919069824ae290a1d9981febda99",
              "version_major": 2,
              "version_minor": 0
            },
            "text/plain": [
              "merges.txt:   0%|          | 0.00/456k [00:00<?, ?B/s]"
            ]
          },
          "metadata": {},
          "output_type": "display_data"
        },
        {
          "data": {
            "application/vnd.jupyter.widget-view+json": {
              "model_id": "6749fc9d4a574395a5078c25ecb1f1a1",
              "version_major": 2,
              "version_minor": 0
            },
            "text/plain": [
              "special_tokens_map.json:   0%|          | 0.00/441 [00:00<?, ?B/s]"
            ]
          },
          "metadata": {},
          "output_type": "display_data"
        },
        {
          "name": "stderr",
          "output_type": "stream",
          "text": [
            "Device set to use cpu\n"
          ]
        },
        {
          "name": "stdout",
          "output_type": "stream",
          "text": [
            "This movie was really good. I was really surprised by how good it was.\n",
            "I was\n"
          ]
        }
      ],
      "source": [
        "model = AutoModelForCausalLM.from_pretrained(\"facebook/opt-350m\")\n",
        "tokenizer = AutoTokenizer.from_pretrained(\"facebook/opt-350m\")\n",
        "\n",
        "pipe = pipeline(\"text-generation\", model=model,tokenizer=tokenizer)\n",
        "print(pipe(\"This movie was really\")[0][\"generated_text\"])"
      ]
    },
    {
      "cell_type": "markdown",
      "metadata": {
        "id": "cOALbvrVAgX1"
      },
      "source": [
        "## Pre-training Objectives\n",
        "\n",
        "Pre-training objectives are crucial components of the pre-training process for transformers. These objectives define the tasks that the model is trained on during the pre-training phase, allowing it to learn meaningful contextual representations of language. Three commonly used pre-training objectives are masked language modeling (MLM), next sentence prediction (NSP) and next Ttoken prediction.\n",
        "\n",
        "1. Masked Language Modeling (MLM):\n",
        "   Masked language modeling involves randomly masking some words in a sentence and training the model to predict the masked words based on the context provided by the surrounding words(i.e., words that appear either before or after the masked word). The objective is to enable the model to learn contextual understanding and fill in missing information.\n",
        "\n",
        "2. Next Sentence Prediction (NSP):\n",
        "   Next sentence prediction involves training the model to predict whether two sentences are consecutive in the original text or randomly chosen from the corpus. This objective helps the model learn sentence-level relationships and understand the coherence between sentences.\n",
        "\n",
        "3. Next Token Prediction:\n",
        "    In this objective, the model is trained to predict the next token in a sequence of text. The model is presented with a sequence of text and must learn to predict the most likely next token based on the context.\n",
        "\n",
        "It's important to note that different pre-trained models may use variations or combinations of these objectives, depending on the specific architecture and training setup.\n"
      ]
    },
    {
      "cell_type": "markdown",
      "metadata": {
        "id": "KfSzlj9SAgX1"
      },
      "source": [
        "## Self-supervised training of a BERT model\n",
        "Training a BERT(Bidirectional Encoder Representations from Transformers) model is a complex and time-consuming process that requires a large corpus of unlabeled text data and significant computational resources. However, we provide you with a simplified exercise to demonstrate the steps involved in pre-training a BERT model using the Masked Language Modeling (MLM) objective.\n",
        "\n",
        "For this exercise, we'll use the Hugging Face Transformers library, which provides pre-implemented BERT models and tools for pre-training. You will be instructed to:\n",
        "- Prepare the train dataset\n",
        "- Train a Tokenizer\n",
        "- Preprocess the dataset\n",
        "- Pre-train BERT using an MLM task\n",
        "- Evaluate the trained model\n"
      ]
    },
    {
      "cell_type": "markdown",
      "metadata": {
        "id": "rznjn_OwAgX1"
      },
      "source": [
        "### Importing required datasets\n",
        "\n",
        "The WikiText dataset is a widely used benchmark dataset in the field of natural language processing (NLP). The dataset contains a large amount of text extracted from Wikipedia, which is a vast online encyclopedia covering a wide range of topics. The articles in the WikiText dataset are preprocessed to remove formatting, hyperlinks, and other metadata, resulting in a clean text corpus.\n",
        "\n",
        "The WikiText dataset has 4 different configs, and is divided into three parts: a training set, a validation set, and a test set. The training set is used for training language models, while the validation and test sets are used for evaluating the performance of the models.\n",
        "First, let's load the datasets and concatenate them together to create a big dataset.\n",
        "\n",
        "*Note: The original BERT was pretrained on Wikipedia and BookCorpus datasets.\n"
      ]
    },
    {
      "cell_type": "code",
      "execution_count": null,
      "metadata": {
        "colab": {
          "referenced_widgets": [
            "d7c2d91dee0c4c87b75d32449ce80ec7",
            "4fc2e24f3e254117a17c1efd2cc176d1",
            "2d84c9373a9a4d778e10dbad97783fe9",
            "ea70b235eb0741218b60e297fefd5642",
            "1b5bd2097c6f45638be98ec075a9ac9f",
            "17ea381dda3f4ade98486263bcbce323",
            "e335eefa7d7244d5bf4141de1360fef1"
          ]
        },
        "id": "mB3Rf8HjAgX1",
        "outputId": "8a5c2c1d-ddbb-425a-b97d-43ab9fbd082a"
      },
      "outputs": [
        {
          "data": {
            "application/vnd.jupyter.widget-view+json": {
              "model_id": "d7c2d91dee0c4c87b75d32449ce80ec7",
              "version_major": 2,
              "version_minor": 0
            },
            "text/plain": [
              "README.md:   0%|          | 0.00/10.5k [00:00<?, ?B/s]"
            ]
          },
          "metadata": {},
          "output_type": "display_data"
        },
        {
          "data": {
            "application/vnd.jupyter.widget-view+json": {
              "model_id": "4fc2e24f3e254117a17c1efd2cc176d1",
              "version_major": 2,
              "version_minor": 0
            },
            "text/plain": [
              "test-00000-of-00001.parquet:   0%|          | 0.00/733k [00:00<?, ?B/s]"
            ]
          },
          "metadata": {},
          "output_type": "display_data"
        },
        {
          "data": {
            "application/vnd.jupyter.widget-view+json": {
              "model_id": "2d84c9373a9a4d778e10dbad97783fe9",
              "version_major": 2,
              "version_minor": 0
            },
            "text/plain": [
              "train-00000-of-00001.parquet:   0%|          | 0.00/6.36M [00:00<?, ?B/s]"
            ]
          },
          "metadata": {},
          "output_type": "display_data"
        },
        {
          "data": {
            "application/vnd.jupyter.widget-view+json": {
              "model_id": "ea70b235eb0741218b60e297fefd5642",
              "version_major": 2,
              "version_minor": 0
            },
            "text/plain": [
              "validation-00000-of-00001.parquet:   0%|          | 0.00/657k [00:00<?, ?B/s]"
            ]
          },
          "metadata": {},
          "output_type": "display_data"
        },
        {
          "data": {
            "application/vnd.jupyter.widget-view+json": {
              "model_id": "1b5bd2097c6f45638be98ec075a9ac9f",
              "version_major": 2,
              "version_minor": 0
            },
            "text/plain": [
              "Generating test split:   0%|          | 0/4358 [00:00<?, ? examples/s]"
            ]
          },
          "metadata": {},
          "output_type": "display_data"
        },
        {
          "data": {
            "application/vnd.jupyter.widget-view+json": {
              "model_id": "17ea381dda3f4ade98486263bcbce323",
              "version_major": 2,
              "version_minor": 0
            },
            "text/plain": [
              "Generating train split:   0%|          | 0/36718 [00:00<?, ? examples/s]"
            ]
          },
          "metadata": {},
          "output_type": "display_data"
        },
        {
          "data": {
            "application/vnd.jupyter.widget-view+json": {
              "model_id": "e335eefa7d7244d5bf4141de1360fef1",
              "version_major": 2,
              "version_minor": 0
            },
            "text/plain": [
              "Generating validation split:   0%|          | 0/3760 [00:00<?, ? examples/s]"
            ]
          },
          "metadata": {},
          "output_type": "display_data"
        }
      ],
      "source": [
        "# Load the datasets\n",
        "dataset = load_dataset(\"wikitext\", \"wikitext-2-raw-v1\")"
      ]
    },
    {
      "cell_type": "markdown",
      "metadata": {
        "id": "muNQyIudAgX1"
      },
      "source": [
        "Let's check the dataset:\n"
      ]
    },
    {
      "cell_type": "code",
      "execution_count": null,
      "metadata": {
        "id": "mMC8gX5IAgX2",
        "outputId": "6083a540-c2f0-4d8f-fd57-f46243dbe6a3"
      },
      "outputs": [
        {
          "name": "stdout",
          "output_type": "stream",
          "text": [
            "DatasetDict({\n",
            "    test: Dataset({\n",
            "        features: ['text'],\n",
            "        num_rows: 4358\n",
            "    })\n",
            "    train: Dataset({\n",
            "        features: ['text'],\n",
            "        num_rows: 36718\n",
            "    })\n",
            "    validation: Dataset({\n",
            "        features: ['text'],\n",
            "        num_rows: 3760\n",
            "    })\n",
            "})\n"
          ]
        }
      ],
      "source": [
        "print(dataset)"
      ]
    },
    {
      "cell_type": "markdown",
      "metadata": {
        "id": "KVKP3L0nAgX2"
      },
      "source": [
        "check a sample record\n"
      ]
    },
    {
      "cell_type": "code",
      "execution_count": null,
      "metadata": {
        "id": "7QKx_PixAgX2",
        "outputId": "a4f0f3ad-e839-4b7c-f152-7f156a387e8d"
      },
      "outputs": [
        {
          "data": {
            "text/plain": [
              "{'text': \" When Mason was injured in warm @-@ ups late in the year , Columbus was without an active goaltender on their roster . To remedy the situation , the team signed former University of Michigan goaltender Shawn Hunwick to a one @-@ day , amateur tryout contract . After being eliminated from the NCAA Tournament just days prior , Hunwick skipped an astronomy class and drove his worn down 2003 Ford Ranger to Columbus to make the game . He served as the back @-@ up to Allen York during the game , and the following day , he signed a contract for the remainder of the year . With Mason returning from injury , Hunwick was third on the team 's depth chart when an injury to York allowed Hunwick to remain as the back @-@ up for the final two games of the year . In the final game of the season , the Blue Jackets were leading the Islanders 7 – 3 with 2 : 33 remaining when , at the behest of his teammates , Head Coach Todd Richards put Hunwick in to finish the game . He did not face a shot . Hunwick was the franchise record ninth player to make his NHL debut during the season . Conversely , Vaclav Prospal played in his 1,000th NHL game during the year . \\n\"}"
            ]
          },
          "execution_count": 8,
          "metadata": {},
          "output_type": "execute_result"
        }
      ],
      "source": [
        "#check a sample record\n",
        "dataset[\"train\"][400]"
      ]
    },
    {
      "cell_type": "markdown",
      "metadata": {
        "id": "g0n8f5AbAgX2"
      },
      "source": [
        "This dataset contains 36,718 rows of training data. If you do not run the code on a GPU-powered notebook, you will need to decrease the size of dataset to be able to complete the training. You can uncomment the commands below to select a desired section of dataset:\n"
      ]
    },
    {
      "cell_type": "code",
      "execution_count": null,
      "metadata": {
        "id": "mG8EP80KAgX2"
      },
      "outputs": [],
      "source": [
        "#dataset[\"train\"] = dataset[\"train\"].select([i for i in range(1000)])\n",
        "#dataset[\"test\"] = dataset[\"test\"].select([i for i in range(200)])"
      ]
    },
    {
      "cell_type": "markdown",
      "metadata": {
        "id": "IZyL6n5KAgX2"
      },
      "source": [
        "Below files are next used in creating TextDataset objects for the training:\n"
      ]
    },
    {
      "cell_type": "code",
      "execution_count": null,
      "metadata": {
        "id": "mIyf47dKAgX2"
      },
      "outputs": [],
      "source": [
        "# Path to save the datasets to text files\n",
        "output_file_train = \"wikitext_dataset_train.txt\"\n",
        "output_file_test = \"wikitext_dataset_test.txt\"\n",
        "\n",
        "# Open the output file in write mode\n",
        "with open(output_file_train, \"w\", encoding=\"utf-8\") as f:\n",
        "    # Iterate over each example in the dataset\n",
        "    for example in dataset[\"train\"]:\n",
        "        # Write the example text to the file\n",
        "        f.write(example[\"text\"] + \"\\n\")\n",
        "\n",
        "# Open the output file in write mode\n",
        "with open(output_file_test, \"w\", encoding=\"utf-8\") as f:\n",
        "    # Iterate over each example in the dataset\n",
        "    for example in dataset[\"test\"]:\n",
        "        # Write the example text to the file\n",
        "        f.write(example[\"text\"] + \"\\n\")"
      ]
    },
    {
      "cell_type": "markdown",
      "metadata": {
        "id": "iHa0B72BAgX2"
      },
      "source": [
        "You need to define a tokenizer to be used for tokenizing the dataset.\n"
      ]
    },
    {
      "cell_type": "code",
      "execution_count": null,
      "metadata": {
        "colab": {
          "referenced_widgets": [
            "2de8d31653a04c82a42458119ad2b583",
            "7e738c2ed5484379afae814517dc6cc7",
            "8727f33acc744c49a399a808a5c6504b",
            "1527fb4e8f834eb9a75b1962dcf730ed"
          ]
        },
        "id": "H6WY_Rv7AgX2",
        "outputId": "0b8280bc-200d-47ca-e66b-73bcef39a2fe"
      },
      "outputs": [
        {
          "data": {
            "application/vnd.jupyter.widget-view+json": {
              "model_id": "2de8d31653a04c82a42458119ad2b583",
              "version_major": 2,
              "version_minor": 0
            },
            "text/plain": [
              "tokenizer_config.json:   0%|          | 0.00/48.0 [00:00<?, ?B/s]"
            ]
          },
          "metadata": {},
          "output_type": "display_data"
        },
        {
          "data": {
            "application/vnd.jupyter.widget-view+json": {
              "model_id": "7e738c2ed5484379afae814517dc6cc7",
              "version_major": 2,
              "version_minor": 0
            },
            "text/plain": [
              "vocab.txt:   0%|          | 0.00/232k [00:00<?, ?B/s]"
            ]
          },
          "metadata": {},
          "output_type": "display_data"
        },
        {
          "data": {
            "application/vnd.jupyter.widget-view+json": {
              "model_id": "8727f33acc744c49a399a808a5c6504b",
              "version_major": 2,
              "version_minor": 0
            },
            "text/plain": [
              "tokenizer.json:   0%|          | 0.00/466k [00:00<?, ?B/s]"
            ]
          },
          "metadata": {},
          "output_type": "display_data"
        },
        {
          "data": {
            "application/vnd.jupyter.widget-view+json": {
              "model_id": "1527fb4e8f834eb9a75b1962dcf730ed",
              "version_major": 2,
              "version_minor": 0
            },
            "text/plain": [
              "config.json:   0%|          | 0.00/570 [00:00<?, ?B/s]"
            ]
          },
          "metadata": {},
          "output_type": "display_data"
        }
      ],
      "source": [
        "# create a tokenizer from existing one to re-use special tokens\n",
        "bert_tokenizer = BertTokenizerFast.from_pretrained(\"bert-base-uncased\")"
      ]
    },
    {
      "cell_type": "code",
      "execution_count": null,
      "metadata": {
        "colab": {
          "referenced_widgets": [
            "36b8f06da84340b3a75475d0cb8b80d7"
          ]
        },
        "id": "a_BHrt3rAgX3",
        "outputId": "8e7b8060-dc6c-4ef9-9fdb-7a969fd50a81"
      },
      "outputs": [
        {
          "data": {
            "application/vnd.jupyter.widget-view+json": {
              "model_id": "36b8f06da84340b3a75475d0cb8b80d7",
              "version_major": 2,
              "version_minor": 0
            },
            "text/plain": [
              "model.safetensors:   0%|          | 0.00/440M [00:00<?, ?B/s]"
            ]
          },
          "metadata": {},
          "output_type": "display_data"
        },
        {
          "name": "stderr",
          "output_type": "stream",
          "text": [
            "If you want to use `BertLMHeadModel` as a standalone, add `is_decoder=True.`\n"
          ]
        }
      ],
      "source": [
        "model_name = 'bert-base-uncased'\n",
        "\n",
        "model = AutoModelForCausalLM.from_pretrained(model_name)\n",
        "tokenizer = AutoTokenizer.from_pretrained(model_name, is_decoder=True)\n"
      ]
    },
    {
      "cell_type": "markdown",
      "metadata": {
        "id": "RjJAOnzdAgX3"
      },
      "source": [
        "### Training a Tokenizer(Optional)\n",
        "\n",
        "In the previous cell, you created an instance of tokenizer from a pre-trained BERT tokenizer. If you want to train the tokenizer on your own dataset, you can uncomment the code below. This is specially helpful when using transformers for specific areas such as medicine where tokens are somehow different than the general tokens that tokenizers are created based on. (You can skip this step if you do not want to train the tokenizer on your specific data):\n"
      ]
    },
    {
      "cell_type": "code",
      "execution_count": null,
      "metadata": {
        "colab": {
          "referenced_widgets": [
            "e2afab9437fd4fcf8f12f634ec14f143"
          ]
        },
        "id": "CWQizERkAgX3",
        "outputId": "9f2fbe67-6448-4f69-d588-6f0d1512f1a9"
      },
      "outputs": [
        {
          "data": {
            "application/vnd.jupyter.widget-view+json": {
              "model_id": "e2afab9437fd4fcf8f12f634ec14f143",
              "version_major": 2,
              "version_minor": 0
            },
            "text/plain": [
              "  0%|          | 0/1 [00:00<?, ?it/s]"
            ]
          },
          "metadata": {},
          "output_type": "display_data"
        },
        {
          "name": "stdout",
          "output_type": "stream",
          "text": [
            "\n",
            "\n",
            "\n"
          ]
        }
      ],
      "source": [
        "## create a python generator to dynamically load the data\n",
        "def batch_iterator(batch_size=10000):\n",
        "    for i in tqdm(range(0, len(dataset), batch_size)):\n",
        "        yield dataset['train'][i : i + batch_size][\"text\"]\n",
        "\n",
        "## create a tokenizer from existing one to re-use special tokens\n",
        "bert_tokenizer = BertTokenizerFast.from_pretrained(\"bert-base-uncased\")\n",
        "\n",
        "## train the tokenizer using our own dataset\n",
        "bert_tokenizer = bert_tokenizer.train_new_from_iterator(text_iterator=batch_iterator(), vocab_size=30522)"
      ]
    },
    {
      "cell_type": "markdown",
      "metadata": {
        "id": "VaOiFsM1AgX3"
      },
      "source": [
        "### Pretraining\n",
        "\n",
        "In this step, we define the configuration of the BERT model and create the model:\n",
        "#### Define the BERT Configuration\n",
        "Here, we define the configuration settings for a BERT model using `BertConfig`. This includes setting various parameters related to the model's architecture:\n",
        "- **vocab_size=30522**: Specifies the size of the vocabulary. This number should match the vocabulary size used by the tokenizer.\n",
        "- **hidden_size=768**: Sets the size of the hidden layers.\n",
        "- **num_hidden_layers=12**: Determines the number of hidden layers in the transformer model.\n",
        "- **num_attention_heads=12**: Sets the number of attention heads in each attention layer.\n",
        "- **intermediate_size=3072**: Specifies the size of the \"intermediate\" (i.e., feed-forward) layer within the transformer.\n",
        "\n"
      ]
    },
    {
      "cell_type": "code",
      "execution_count": null,
      "metadata": {
        "id": "XM2mUavpAgX3"
      },
      "outputs": [],
      "source": [
        "# Define the BERT configuration\n",
        "config = BertConfig(\n",
        "    vocab_size=len(bert_tokenizer.get_vocab()),  # Specify the vocabulary size(Make sure this number equals the vocab_size of the tokenizer)\n",
        "    hidden_size=768,  # Set the hidden size\n",
        "    num_hidden_layers=12,  # Set the number of layers\n",
        "    num_attention_heads=12,  # Set the number of attention heads\n",
        "    intermediate_size=3072,  # Set the intermediate size\n",
        ")"
      ]
    },
    {
      "cell_type": "markdown",
      "metadata": {
        "id": "7J-mh2E9AgX3"
      },
      "source": [
        " Create the BERT model for pre-training:\n"
      ]
    },
    {
      "cell_type": "code",
      "execution_count": null,
      "metadata": {
        "id": "Ff-sB4RHAgX3",
        "outputId": "bb0000b8-2241-4780-e548-f03cde9e00b0"
      },
      "outputs": [
        {
          "name": "stderr",
          "output_type": "stream",
          "text": [
            "BertForMaskedLM has generative capabilities, as `prepare_inputs_for_generation` is explicitly overwritten. However, it doesn't directly inherit from `GenerationMixin`. From 👉v4.50👈 onwards, `PreTrainedModel` will NOT inherit from `GenerationMixin`, and this model will lose the ability to call `generate` and other related functions.\n",
            "  - If you're using `trust_remote_code=True`, you can get rid of this warning by loading the model with an auto class. See https://huggingface.co/docs/transformers/en/model_doc/auto#auto-classes\n",
            "  - If you are the owner of the model architecture code, please modify your model class such that it inherits from `GenerationMixin` (after `PreTrainedModel`, otherwise you'll get an exception).\n",
            "  - If you are not the owner of the model architecture class, please contact the model code owner to update it.\n"
          ]
        }
      ],
      "source": [
        "# Create the BERT model for pre-training\n",
        "model = BertForMaskedLM(config)"
      ]
    },
    {
      "cell_type": "markdown",
      "metadata": {
        "id": "RdnphGYdAgX4"
      },
      "source": [
        "check model configuration\n"
      ]
    },
    {
      "cell_type": "code",
      "execution_count": null,
      "metadata": {
        "id": "tGfS6qkSAgX4",
        "outputId": "3f54eac5-295a-4f0a-a7d6-70fdfd26758d"
      },
      "outputs": [
        {
          "data": {
            "text/plain": [
              "BertForMaskedLM(\n",
              "  (bert): BertModel(\n",
              "    (embeddings): BertEmbeddings(\n",
              "      (word_embeddings): Embedding(30522, 768, padding_idx=0)\n",
              "      (position_embeddings): Embedding(512, 768)\n",
              "      (token_type_embeddings): Embedding(2, 768)\n",
              "      (LayerNorm): LayerNorm((768,), eps=1e-12, elementwise_affine=True)\n",
              "      (dropout): Dropout(p=0.1, inplace=False)\n",
              "    )\n",
              "    (encoder): BertEncoder(\n",
              "      (layer): ModuleList(\n",
              "        (0-11): 12 x BertLayer(\n",
              "          (attention): BertAttention(\n",
              "            (self): BertSdpaSelfAttention(\n",
              "              (query): Linear(in_features=768, out_features=768, bias=True)\n",
              "              (key): Linear(in_features=768, out_features=768, bias=True)\n",
              "              (value): Linear(in_features=768, out_features=768, bias=True)\n",
              "              (dropout): Dropout(p=0.1, inplace=False)\n",
              "            )\n",
              "            (output): BertSelfOutput(\n",
              "              (dense): Linear(in_features=768, out_features=768, bias=True)\n",
              "              (LayerNorm): LayerNorm((768,), eps=1e-12, elementwise_affine=True)\n",
              "              (dropout): Dropout(p=0.1, inplace=False)\n",
              "            )\n",
              "          )\n",
              "          (intermediate): BertIntermediate(\n",
              "            (dense): Linear(in_features=768, out_features=3072, bias=True)\n",
              "            (intermediate_act_fn): GELUActivation()\n",
              "          )\n",
              "          (output): BertOutput(\n",
              "            (dense): Linear(in_features=3072, out_features=768, bias=True)\n",
              "            (LayerNorm): LayerNorm((768,), eps=1e-12, elementwise_affine=True)\n",
              "            (dropout): Dropout(p=0.1, inplace=False)\n",
              "          )\n",
              "        )\n",
              "      )\n",
              "    )\n",
              "  )\n",
              "  (cls): BertOnlyMLMHead(\n",
              "    (predictions): BertLMPredictionHead(\n",
              "      (transform): BertPredictionHeadTransform(\n",
              "        (dense): Linear(in_features=768, out_features=768, bias=True)\n",
              "        (transform_act_fn): GELUActivation()\n",
              "        (LayerNorm): LayerNorm((768,), eps=1e-12, elementwise_affine=True)\n",
              "      )\n",
              "      (decoder): Linear(in_features=768, out_features=30522, bias=True)\n",
              "    )\n",
              "  )\n",
              ")"
            ]
          },
          "execution_count": 16,
          "metadata": {},
          "output_type": "execute_result"
        }
      ],
      "source": [
        "# check model configuration\n",
        "model"
      ]
    },
    {
      "cell_type": "markdown",
      "metadata": {
        "id": "5fNoIUeeAgX4"
      },
      "source": [
        "### Define the Training Dataset\n",
        "Here, we define a training dataset using the `TextDataset` class, which is suited for loading and processing text data for training language models. This setup typically involves a few key parameters:\n",
        "\n",
        "- **tokenizer=bert_tokenizer**: Specifies the tokenizer to be used. Here, `bert_tokenizer` is an instance of a BERT tokenizer, responsible for converting text into tokens that the model can understand.\n",
        "- **file_path=\"wikitext_dataset_train.txt\"**: The path to the pre-training data file. This should point to a text file containing the training data.\n",
        "- **block_size=128**: Sets the desired block size for training. This defines the length of the sequences that the model will be trained on\n",
        "\n",
        "The `TextDataset` class is designed to take large pieces of text (such as those found in the specified file), tokenize them, and efficiently handle them in manageable blocks of the specified size.\n",
        "\n"
      ]
    },
    {
      "cell_type": "code",
      "execution_count": null,
      "metadata": {
        "id": "aLhReKs2AgX4",
        "outputId": "1eee28d3-0997-4883-fcac-ec51e3ae5b80"
      },
      "outputs": [
        {
          "name": "stderr",
          "output_type": "stream",
          "text": [
            "Token indices sequence length is longer than the specified maximum sequence length for this model (2306641 > 512). Running this sequence through the model will result in indexing errors\n"
          ]
        }
      ],
      "source": [
        "# Prepare the pre-training data as a TextDataset\n",
        "train_dataset = TextDataset(\n",
        "    tokenizer=bert_tokenizer,\n",
        "    file_path=\"wikitext_dataset_train.txt\",  # Path to your pre-training data file\n",
        "    block_size=128  # Set the desired block size for training\n",
        ")\n",
        "test_dataset = TextDataset(\n",
        "    tokenizer=bert_tokenizer,\n",
        "    file_path=\"wikitext_dataset_test.txt\",  # Path to your pre-training data file\n",
        "    block_size=128  # Set the desired block size for training\n",
        ")"
      ]
    },
    {
      "cell_type": "markdown",
      "metadata": {
        "id": "8wWil_ExAgX4"
      },
      "source": [
        "examining  one sample the token indexes  are shown here with the block size.\n"
      ]
    },
    {
      "cell_type": "code",
      "execution_count": null,
      "metadata": {
        "id": "_Nw5fO2wAgX4",
        "outputId": "4577e6d5-a3b5-4aee-9cdb-af3337bad7fb"
      },
      "outputs": [
        {
          "data": {
            "text/plain": [
              "tensor([    2,    33,  3610,  4272,  2994,    33, 15134,   950,  3610,    23,\n",
              "           30,  9990, 22575,   548,  4272,    12,  3791,    30,   300,   281,\n",
              "        21622,    16,  5398,    18,  3610,   556,   544,  9118,    23,    13,\n",
              "           16,  4942,  4200,   564,   589,  3610,  4272,  2994,  2552,  2319,\n",
              "           16,   607,    42,  8432,  1716,    36,    17,    36,  2300,  1786,\n",
              "         1087,  2301,   619, 12618,   562,  3353,    18,  5764,   586,   544,\n",
              "         9488, 16756,    18,  1414,   554,  1563,  1779,   554,  2319,    16,\n",
              "          613,   607,   544,  1749,  1087,   554,   544,  3610,  1147,    18,\n",
              "        13598,   544,  1382,  9338,   556,  8432,   562,  1696,    36,    17,\n",
              "           36,   874,  7403,   589,   773, 11713,    16,   544,  1417,  5030,\n",
              "         8466,   564,   544,   765,  1087,   562,  5131,   544,     6,  9248,\n",
              "            6,    16,    42, 17189,  1546,  3145,  5461,   544,  3924,   556,\n",
              "        15266,   859,   544,  1003, 24600,   877,   828,     3])"
            ]
          },
          "execution_count": 18,
          "metadata": {},
          "output_type": "execute_result"
        }
      ],
      "source": [
        "train_dataset[0]"
      ]
    },
    {
      "cell_type": "markdown",
      "metadata": {
        "id": "fn9sZdZYAgX4"
      },
      "source": [
        "Then, we prepare data for the MLM task (masking random tokens):\n",
        "### Define the Data Collator for Language Modeling\n",
        "This line of code sets up a `DataCollatorForLanguageModeling` from the Hugging Face Transformers library. A data collator is used during training to dynamically create batches of data. For language modeling, particularly for models like BERT that use masked language modeling (MLM), this collator prepares training batches by automatically masking tokens according to a specified probability. Here are the details of the parameters used:\n",
        "\n",
        "- **tokenizer=bert_tokenizer**: Specifies the tokenizer to be used with the data collator. The `bert_tokenizer` is responsible for tokenizing the text and converting it to the format expected by the model.\n",
        "- **mlm=True**: Indicates that the data collator should mask tokens for masked language modeling training. This parameter being set to `True` configures the collator to randomly mask some of the tokens in the input data, which the model will then attempt to predict.\n",
        "- **mlm_probability=0.15**: Sets the probability with which tokens will be masked. A probability of 0.15 means that, on average, 15% of the tokens in any sequence will be replaced with a mask token.\n"
      ]
    },
    {
      "cell_type": "code",
      "execution_count": null,
      "metadata": {
        "id": "llRI3ORTAgX4"
      },
      "outputs": [],
      "source": [
        "# Prepare the data collator for language modeling\n",
        "data_collator = DataCollatorForLanguageModeling(\n",
        "    tokenizer=bert_tokenizer, mlm=True, mlm_probability=0.15\n",
        ")"
      ]
    },
    {
      "cell_type": "code",
      "execution_count": null,
      "metadata": {
        "id": "UAPaRdMFAgX4",
        "outputId": "8ae19a97-6b2d-485a-9b37-51e7b4b440e3"
      },
      "outputs": [
        {
          "data": {
            "text/plain": [
              "{'input_ids': tensor([[    2,    33,  3610,  4272,  2994,    33, 15134,   950,  3610,    23,\n",
              "             30,  9990, 22575,   548,  4272,    12,  3791,    30,   300,   281,\n",
              "          29296,    16,  5398,    18,  3610,   556,   544,  9118,    23,    13,\n",
              "             16,  4942,  4200,   564,   589,  3610,  4272,  2994,  2552,  2319,\n",
              "             16,     4,    42,  8432,     4,     4,    17,    36,  2300,     4,\n",
              "           1087,  2301,   619, 12618,     4,  3353,    18,  5764,   586,   544,\n",
              "           9488, 16756,    18,  1414,   554,  1563,  1779,   554,  2319,    16,\n",
              "              4,   607,   544,  1749,  1087,   554,     4,  3610,  1147,    18,\n",
              "          13598,   544,  1382,  9338,   556,     4,   562,  1696,    36,    17,\n",
              "             36,   874,  7403,   589,   773, 11713,    16,   544,     4,  5030,\n",
              "              4,   564,   544,     4,  1087,   562,  5131,   544,     6,  9248,\n",
              "              6,    16,    42, 17189,  1546,  3145,  5461,   544,  3924,   556,\n",
              "          15266,   859,   544,  1003, 24600,   877,   828,     3]]),\n",
              " 'labels': tensor([[ -100,  -100,  -100,  -100,  -100,  -100,  -100,  -100,  -100,  -100,\n",
              "           -100,  -100,  -100,  -100,  -100,  -100,  -100,  -100,  -100,  -100,\n",
              "          21622,  -100,  -100,  -100,  -100,  -100,  -100,  -100,  -100,  -100,\n",
              "           -100,  -100,  -100,  -100,  -100,  -100,  -100,  -100,  -100,  -100,\n",
              "           -100,   607,  -100,  -100,  1716,    36,  -100,  -100,  2300,  1786,\n",
              "           -100,  -100,  -100,  -100,   562,  -100,  -100,  -100,  -100,  -100,\n",
              "           -100,  -100,  -100,  -100,  -100,  -100,  -100,  -100,  -100,  -100,\n",
              "            613,  -100,  -100,  -100,  -100,  -100,   544,  -100,  -100,  -100,\n",
              "           -100,  -100,  -100,  -100,  -100,  8432,  -100,  -100,  -100,  -100,\n",
              "           -100,  -100,  -100,  -100,  -100,  -100,  -100,  -100,  1417,  -100,\n",
              "           8466,  -100,  -100,   765,  -100,  -100,  -100,  -100,  -100,  -100,\n",
              "           -100,  -100,  -100,  -100,  -100,  -100,  -100,  -100,  -100,   556,\n",
              "           -100,  -100,  -100,  -100,  -100,  -100,  -100,  -100]])}"
            ]
          },
          "execution_count": 20,
          "metadata": {},
          "output_type": "execute_result"
        }
      ],
      "source": [
        "# check how collator transforms a sample input data record\n",
        "data_collator([train_dataset[0]])"
      ]
    },
    {
      "cell_type": "markdown",
      "metadata": {
        "id": "PrEUOTQPAgX4"
      },
      "source": [
        "Now, we train the BERT Model using the Trainer module. (For a complete list of training arguments, check [here](https://huggingface.co/docs/transformers/v4.33.2/en/main_classes/trainer#transformers.TrainingArguments)):\n",
        "This section configures the training process by specifying various parameters that control how the model is trained, evaluated, and saved:\n",
        "\n",
        "- **output_dir=\"./trained_model\"**: Specifies the directory where the trained model and other output files will be saved.\n",
        "- **overwrite_output_dir=True**: If set to `True`, this will overwrite the contents of the output directory if it already exists. This is useful when running experiments multiple times.\n",
        "- **do_eval=True**: Enables evaluation of the model. If `True`, the model will be evaluated at the specified intervals.\n",
        "- **evaluation_strategy=\"epoch\"**: Defines when the model should be evaluated. Setting this to \"epoch\" means the model will be evaluated at the end of each epoch.\n",
        "- **learning_rate=5e-5**: Sets the learning rate for training the model. This is a typical learning rate for fine-tuning BERT-like models.\n",
        "- **num_train_epochs=10**: Specifies the number of training epochs. Each epoch involves a full pass over the training data.\n",
        "- **per_device_train_batch_size=2**: Sets the batch size for training on each device. This should be set based on the memory capacity of your hardware.\n",
        "- **save_total_limit=2**: Limits the total number of model checkpoints to be saved. Only the most recent two checkpoints will be kept.\n",
        "- **logging_steps=20**: Determines how often to log training information, which can help monitor the training process.\n"
      ]
    },
    {
      "cell_type": "code",
      "execution_count": null,
      "metadata": {
        "id": "Z3yaZrK7AgX5",
        "outputId": "58d1ba84-dac7-41ec-c000-90e92dafe8fe"
      },
      "outputs": [
        {
          "data": {
            "text/plain": [
              "'# Define the training arguments\\ntraining_args = TrainingArguments(\\n    output_dir=\"./trained_model\",  # Specify the output directory for the trained model\\n    overwrite_output_dir=True,\\n    do_eval=True,\\n    evaluation_strategy=\"epoch\",\\n    learning_rate=5e-5,\\n    num_train_epochs=10,  # Specify the number of training epochs\\n    per_device_train_batch_size=2,  # Set the batch size for training\\n    save_total_limit=2,  # Limit the total number of saved checkpoints\\n    logging_steps = 20\\n    \\n)\\n\\n# Instantiate the Trainer\\ntrainer = Trainer(\\n    model=model,\\n    args=training_args,\\n    data_collator=data_collator,\\n    train_dataset=train_dataset,\\n    eval_dataset=test_dataset,\\n)\\n\\n# Start the pre-training\\ntrainer.train()'"
            ]
          },
          "execution_count": 21,
          "metadata": {},
          "output_type": "execute_result"
        }
      ],
      "source": [
        "'''# Define the training arguments\n",
        "training_args = TrainingArguments(\n",
        "    output_dir=\"./trained_model\",  # Specify the output directory for the trained model\n",
        "    overwrite_output_dir=True,\n",
        "    do_eval=True,\n",
        "    evaluation_strategy=\"epoch\",\n",
        "    learning_rate=5e-5,\n",
        "    num_train_epochs=10,  # Specify the number of training epochs\n",
        "    per_device_train_batch_size=2,  # Set the batch size for training\n",
        "    save_total_limit=2,  # Limit the total number of saved checkpoints\n",
        "    logging_steps = 20\n",
        "\n",
        ")\n",
        "\n",
        "# Instantiate the Trainer\n",
        "trainer = Trainer(\n",
        "    model=model,\n",
        "    args=training_args,\n",
        "    data_collator=data_collator,\n",
        "    train_dataset=train_dataset,\n",
        "    eval_dataset=test_dataset,\n",
        ")\n",
        "\n",
        "# Start the pre-training\n",
        "trainer.train()'''"
      ]
    },
    {
      "cell_type": "markdown",
      "metadata": {
        "id": "qBZQM1NrAgX5"
      },
      "source": [
        "## Evaluating Model Performance\n",
        "\n",
        "Let's check the performance of the trained model. Perplexity is commonly used to compare different language models or different configurations of the same model.\n",
        "After training, perplexity can be calculated on a held-out evaluation dataset to assess the model's performance. The perplexity is calculated by feeding the evaluation dataset through the model and comparing the predicted probabilities of the target tokens with the actual token values that are masked.\n",
        "\n",
        "A lower perplexity score indicates that the model has a better understanding of the language and is more effective at predicting the masked tokens. It suggests that the model has learned useful representations and can generalize well to unseen data.\n"
      ]
    },
    {
      "cell_type": "code",
      "execution_count": null,
      "metadata": {
        "id": "kxq3ZLeFAgX5",
        "outputId": "b2c48125-9a24-4dbe-ad82-ce3efed9657b"
      },
      "outputs": [
        {
          "data": {
            "text/plain": [
              "'eval_results = trainer.evaluate()\\nprint(f\"Perplexity: {math.exp(eval_results[\\'eval_loss\\']):.2f}\")'"
            ]
          },
          "execution_count": 22,
          "metadata": {},
          "output_type": "execute_result"
        }
      ],
      "source": [
        "'''eval_results = trainer.evaluate()\n",
        "print(f\"Perplexity: {math.exp(eval_results['eval_loss']):.2f}\")'''"
      ]
    },
    {
      "cell_type": "markdown",
      "metadata": {
        "id": "3DH0G53WAgX5"
      },
      "source": [
        "## Loading the saved model\n",
        "If you want to skip training and load the model that you trained for 10 epochs, go ahead and uncomment the following cell:\n"
      ]
    },
    {
      "cell_type": "code",
      "execution_count": null,
      "metadata": {
        "id": "oxS20X-eAgX5",
        "outputId": "1a1af47d-9449-47ea-a808-65946f2659a2"
      },
      "outputs": [
        {
          "name": "stdout",
          "output_type": "stream",
          "text": [
            "--2024-11-10 18:27:07--  https://cf-courses-data.s3.us.cloud-object-storage.appdomain.cloud/BeXRxFT2EyQAmBHvxVaMYQ/bert-scratch-model.pt\n",
            "Resolving cf-courses-data.s3.us.cloud-object-storage.appdomain.cloud (cf-courses-data.s3.us.cloud-object-storage.appdomain.cloud)... 169.63.118.104, 169.63.118.104\n",
            "Connecting to cf-courses-data.s3.us.cloud-object-storage.appdomain.cloud (cf-courses-data.s3.us.cloud-object-storage.appdomain.cloud)|169.63.118.104|:443... connected.\n",
            "HTTP request sent, awaiting response... 200 OK\n",
            "Length: 438141816 (418M) [binary/octet-stream]\n",
            "Saving to: ‘bert-scratch-model.pt’\n",
            "\n",
            "bert-scratch-model. 100%[===================>] 417.84M  48.9MB/s    in 8.2s    \n",
            "\n",
            "2024-11-10 18:27:17 (50.7 MB/s) - ‘bert-scratch-model.pt’ saved [438141816/438141816]\n",
            "\n"
          ]
        },
        {
          "data": {
            "text/plain": [
              "<All keys matched successfully>"
            ]
          },
          "execution_count": 23,
          "metadata": {},
          "output_type": "execute_result"
        }
      ],
      "source": [
        "!wget 'https://cf-courses-data.s3.us.cloud-object-storage.appdomain.cloud/BeXRxFT2EyQAmBHvxVaMYQ/bert-scratch-model.pt'\n",
        "model.load_state_dict(torch.load('bert-scratch-model.pt',map_location=torch.device('cpu')))"
      ]
    },
    {
      "cell_type": "markdown",
      "metadata": {
        "id": "xuj5O1POAgX5"
      },
      "source": [
        "The simplest way to try out the model for inference is to use it in a pipeline(). Instantiate a pipeline for fill-mask with your model, and pass your text to it. If you like, you can use the top_k parameter to specify how many predictions to return:\n"
      ]
    },
    {
      "cell_type": "code",
      "execution_count": null,
      "metadata": {
        "id": "YGPkFHROAgX5",
        "outputId": "33a4d8a9-e45b-4a29-ded4-0427b0a6ecda"
      },
      "outputs": [
        {
          "name": "stderr",
          "output_type": "stream",
          "text": [
            "Device set to use cpu\n"
          ]
        },
        {
          "name": "stdout",
          "output_type": "stream",
          "text": [
            "Predicted token: ,, Confidence: 0.05\n",
            "Predicted token: ., Confidence: 0.05\n",
            "Predicted token: the, Confidence: 0.04\n",
            "Predicted token: \", Confidence: 0.04\n",
            "Predicted token: and, Confidence: 0.03\n"
          ]
        }
      ],
      "source": [
        "# Define the input text with a masked token\n",
        "text = \"This is a [MASK] movie!\"\n",
        "\n",
        "# Create a pipeline for the \"fill-mask\" task\n",
        "mask_filler = pipeline(\"fill-mask\", model=model,tokenizer=bert_tokenizer)\n",
        "\n",
        "# Generate predictions by filling the mask in the input text\n",
        "results = mask_filler(text) #top_k parameter can be set\n",
        "\n",
        "# Print the predicted sequences\n",
        "for result in results:\n",
        "    print(f\"Predicted token: {result['token_str']}, Confidence: {result['score']:.2f}\")"
      ]
    },
    {
      "cell_type": "markdown",
      "metadata": {
        "id": "cMHb3ffHAgX5"
      },
      "source": [
        "You can see that [MASK] is replaced by the most frequent token. This weak performance can be due to insufficient training, lack of training data, model architecture, or not tuning hyperparameters. Let's try a pretrained model from Hugging Face:\n"
      ]
    },
    {
      "cell_type": "markdown",
      "metadata": {
        "id": "IzUGEWOrAgX5"
      },
      "source": [
        "## Inferencing a pretrained BERT model\n"
      ]
    },
    {
      "cell_type": "code",
      "execution_count": null,
      "metadata": {
        "id": "4EUeEK9HAgX5",
        "outputId": "ae737420-7c1e-4c1f-976a-2a30e86728eb"
      },
      "outputs": [
        {
          "name": "stderr",
          "output_type": "stream",
          "text": [
            "Some weights of the model checkpoint at bert-base-uncased were not used when initializing BertForMaskedLM: ['bert.pooler.dense.bias', 'bert.pooler.dense.weight', 'cls.seq_relationship.bias', 'cls.seq_relationship.weight']\n",
            "- This IS expected if you are initializing BertForMaskedLM from the checkpoint of a model trained on another task or with another architecture (e.g. initializing a BertForSequenceClassification model from a BertForPreTraining model).\n",
            "- This IS NOT expected if you are initializing BertForMaskedLM from the checkpoint of a model that you expect to be exactly identical (initializing a BertForSequenceClassification model from a BertForSequenceClassification model).\n",
            "Device set to use cpu\n"
          ]
        },
        {
          "name": "stdout",
          "output_type": "stream",
          "text": [
            "Predicted token: great, Confidence: 0.16\n",
            "Predicted token: horror, Confidence: 0.08\n",
            "Predicted token: good, Confidence: 0.08\n",
            "Predicted token: bad, Confidence: 0.05\n",
            "Predicted token: fantastic, Confidence: 0.04\n"
          ]
        }
      ],
      "source": [
        "# Load the pretrained BERT model and tokenizer\n",
        "pretrained_model = BertForMaskedLM.from_pretrained('bert-base-uncased')\n",
        "pretrained_tokenizer = BertTokenizerFast.from_pretrained('bert-base-uncased')\n",
        "\n",
        "# Define the input text with a masked token\n",
        "text = \"This is a [MASK] movie!\"\n",
        "\n",
        "# Create the pipeline\n",
        "mask_filler = pipeline(task='fill-mask', model=pretrained_model,tokenizer=pretrained_tokenizer)\n",
        "\n",
        "# Perform inference using the pipeline\n",
        "results = mask_filler(text)\n",
        "for result in results:\n",
        "    print(f\"Predicted token: {result['token_str']}, Confidence: {result['score']:.2f}\")"
      ]
    },
    {
      "cell_type": "markdown",
      "metadata": {
        "id": "A3PGBREDAgX5"
      },
      "source": [
        "This pretrianed model performs way better than the model you just trained for a few epochs using a single dataset. Still, pretrained models cannot be used for specific tasks, such as sentiment extraction or sequence classification. This is why supervised fine-tuning methods are introduced.\n"
      ]
    },
    {
      "cell_type": "markdown",
      "metadata": {
        "id": "LNALiI29AgX6"
      },
      "source": [
        "---\n"
      ]
    },
    {
      "cell_type": "markdown",
      "metadata": {
        "id": "tmPAQXfRAgX6"
      },
      "source": [
        "## Exercise\n"
      ]
    },
    {
      "cell_type": "markdown",
      "metadata": {
        "id": "NPPUI5kQAgX6"
      },
      "source": [
        "1. Create a model and tokenizer using Hugging Face library.\n",
        "2. Go to this [link](https://huggingface.co/datasets?task_categories=task_categories:text-classification&sort=trending)\n",
        "3. Choose a Text Classification dataset that you can load, for instance 'stanfordnlp/snli'\n",
        "4. Use that dataset to train your model(please be mindful of the resources available for the training) and evaluate it.\n",
        "\n",
        "   >Note: The lab environment doesn't have the resources to support the training and this might cause the kernel to die.\n"
      ]
    },
    {
      "cell_type": "markdown",
      "metadata": {
        "id": "BeXMe-8YAgX6"
      },
      "source": [
        "<details><summary>Click here for a hint</summary>\n",
        "\n",
        "-   SNLI has 3 labels\n",
        "-   You can use `load_dataset(\"stanfordnlp/snli\")` to load the dataset\n",
        "</details>\n"
      ]
    },
    {
      "cell_type": "markdown",
      "metadata": {
        "id": "ARCbj82oAgX6"
      },
      "source": [
        "<details><summary>Click here for the solution</summary>\n",
        "\n",
        "```python\n",
        "from transformers import AutoTokenizer, AutoModelForSequenceClassification\n",
        "from datasets import load_dataset\n",
        "\n",
        "# Load the SNLI dataset\n",
        "snli = load_dataset(\"stanfordnlp/snli\")\n",
        "\n",
        "# Preprocessing function\n",
        "def preprocess_function(examples):\n",
        "  premise = examples[\"premise\"]\n",
        "  hypothesis = examples[\"hypothesis\"]\n",
        "  return tokenizer(premise, hypothesis, padding=\"max_length\", truncation=True)\n",
        "\n",
        "model_name = \"bert-base-uncased\"\n",
        "\n",
        "# Load tokenizer and model\n",
        "tokenizer = AutoTokenizer.from_pretrained(model_name)\n",
        "model = AutoModelForSequenceClassification.from_pretrained(model_name, num_labels=3)\n",
        "\n",
        "# Apply preprocessing to training and validation sets\n",
        "train_encoded = snli[\"train\"].map(preprocess_function, batched=True)\n",
        "val_encoded = snli[\"validation\"].map(preprocess_function, batched=True)\n",
        "\n",
        "# Training function (replace with your training loop)\n",
        "from transformers import TrainingArguments, Trainer\n",
        "\n",
        "training_args = TrainingArguments(\n",
        "    output_dir=\"./results\",  # Replace with your output directory\n",
        "    per_device_train_batch_size=16,\n",
        "    per_device_eval_batch_size=16,\n",
        "    num_train_epochs=3,\n",
        ")\n",
        "\n",
        "trainer = Trainer(\n",
        "    model=model,\n",
        "    args=training_args,\n",
        "    train_dataset=train_encoded,\n",
        "    eval_dataset=val_encoded,\n",
        ")\n",
        "\n",
        "trainer.train()\n",
        "\n",
        "# Evaluation function (replace with your metrics)\n",
        "from sklearn.metrics import accuracy_score\n",
        "\n",
        "predictions, labels = trainer.predict(val_encoded)\n",
        "accuracy = accuracy_score(labels, predictions.argmax(-1))\n",
        "print(f\"Accuracy on validation set: {accuracy:.4f}\")\n",
        "\n",
        "```\n",
        "\n",
        "</details>\n"
      ]
    },
    {
      "cell_type": "code",
      "execution_count": null,
      "metadata": {
        "colab": {
          "referenced_widgets": [
            "97c11b6f21724956b2935a19807aa3d1",
            "f7fa232a0e7f4addb8a1f864be4a0607",
            "33ff2be6f3384bc89c66db656f1fc023",
            "7ac70348fad44ace8c4b74c2282cba2e",
            "0677d2a3f2e740abb6d188c94be8a708",
            "6007a09a34484c24a5976528161e703a",
            "2af60226fa1547f5b6ff018a667876a2",
            "383d2f3267e44cc98a94b2ee6d45a08e",
            "140cf9a3faaf4881951d92298363d514"
          ]
        },
        "id": "Ptj07244AgX6",
        "outputId": "3dc6adbf-19dd-4187-d624-a41c12b0bb05"
      },
      "outputs": [
        {
          "data": {
            "application/vnd.jupyter.widget-view+json": {
              "model_id": "97c11b6f21724956b2935a19807aa3d1",
              "version_major": 2,
              "version_minor": 0
            },
            "text/plain": [
              "README.md:   0%|          | 0.00/16.0k [00:00<?, ?B/s]"
            ]
          },
          "metadata": {},
          "output_type": "display_data"
        },
        {
          "data": {
            "application/vnd.jupyter.widget-view+json": {
              "model_id": "f7fa232a0e7f4addb8a1f864be4a0607",
              "version_major": 2,
              "version_minor": 0
            },
            "text/plain": [
              "test-00000-of-00001.parquet:   0%|          | 0.00/412k [00:00<?, ?B/s]"
            ]
          },
          "metadata": {},
          "output_type": "display_data"
        },
        {
          "data": {
            "application/vnd.jupyter.widget-view+json": {
              "model_id": "33ff2be6f3384bc89c66db656f1fc023",
              "version_major": 2,
              "version_minor": 0
            },
            "text/plain": [
              "validation-00000-of-00001.parquet:   0%|          | 0.00/413k [00:00<?, ?B/s]"
            ]
          },
          "metadata": {},
          "output_type": "display_data"
        },
        {
          "data": {
            "application/vnd.jupyter.widget-view+json": {
              "model_id": "7ac70348fad44ace8c4b74c2282cba2e",
              "version_major": 2,
              "version_minor": 0
            },
            "text/plain": [
              "train-00000-of-00001.parquet:   0%|          | 0.00/19.6M [00:00<?, ?B/s]"
            ]
          },
          "metadata": {},
          "output_type": "display_data"
        },
        {
          "data": {
            "application/vnd.jupyter.widget-view+json": {
              "model_id": "0677d2a3f2e740abb6d188c94be8a708",
              "version_major": 2,
              "version_minor": 0
            },
            "text/plain": [
              "Generating test split:   0%|          | 0/10000 [00:00<?, ? examples/s]"
            ]
          },
          "metadata": {},
          "output_type": "display_data"
        },
        {
          "data": {
            "application/vnd.jupyter.widget-view+json": {
              "model_id": "6007a09a34484c24a5976528161e703a",
              "version_major": 2,
              "version_minor": 0
            },
            "text/plain": [
              "Generating validation split:   0%|          | 0/10000 [00:00<?, ? examples/s]"
            ]
          },
          "metadata": {},
          "output_type": "display_data"
        },
        {
          "data": {
            "application/vnd.jupyter.widget-view+json": {
              "model_id": "2af60226fa1547f5b6ff018a667876a2",
              "version_major": 2,
              "version_minor": 0
            },
            "text/plain": [
              "Generating train split:   0%|          | 0/550152 [00:00<?, ? examples/s]"
            ]
          },
          "metadata": {},
          "output_type": "display_data"
        },
        {
          "name": "stderr",
          "output_type": "stream",
          "text": [
            "Some weights of BertForSequenceClassification were not initialized from the model checkpoint at bert-base-uncased and are newly initialized: ['classifier.bias', 'classifier.weight']\n",
            "You should probably TRAIN this model on a down-stream task to be able to use it for predictions and inference.\n"
          ]
        },
        {
          "data": {
            "application/vnd.jupyter.widget-view+json": {
              "model_id": "383d2f3267e44cc98a94b2ee6d45a08e",
              "version_major": 2,
              "version_minor": 0
            },
            "text/plain": [
              "Map:   0%|          | 0/550152 [00:00<?, ? examples/s]"
            ]
          },
          "metadata": {},
          "output_type": "display_data"
        },
        {
          "data": {
            "application/vnd.jupyter.widget-view+json": {
              "model_id": "140cf9a3faaf4881951d92298363d514",
              "version_major": 2,
              "version_minor": 0
            },
            "text/plain": [
              "Map:   0%|          | 0/10000 [00:00<?, ? examples/s]"
            ]
          },
          "metadata": {},
          "output_type": "display_data"
        },
        {
          "name": "stderr",
          "output_type": "stream",
          "text": [
            "Detected kernel version 5.4.0, which is below the recommended minimum of 5.5.0; this can cause the process to hang. It is recommended to upgrade the kernel to the minimum version or higher.\n"
          ]
        },
        {
          "data": {
            "text/html": [
              "\n",
              "    <div>\n",
              "      \n",
              "      <progress value='2' max='275076' style='width:300px; height:20px; vertical-align: middle;'></progress>\n",
              "      [     2/275076 : < :, Epoch 0.00/1]\n",
              "    </div>\n",
              "    <table border=\"1\" class=\"dataframe\">\n",
              "  <thead>\n",
              " <tr style=\"text-align: left;\">\n",
              "      <th>Step</th>\n",
              "      <th>Training Loss</th>\n",
              "    </tr>\n",
              "  </thead>\n",
              "  <tbody>\n",
              "  </tbody>\n",
              "</table><p>"
            ],
            "text/plain": [
              "<IPython.core.display.HTML object>"
            ]
          },
          "metadata": {},
          "output_type": "display_data"
        }
      ],
      "source": [
        "from transformers import AutoTokenizer, AutoModelForSequenceClassification\n",
        "from datasets import load_dataset\n",
        "\n",
        "# Load the SNLI dataset\n",
        "snli = load_dataset(\"stanfordnlp/snli\")\n",
        "\n",
        "# Preprocessing function\n",
        "def preprocess_function(examples):\n",
        "  premise = examples[\"premise\"]\n",
        "  hypothesis = examples[\"hypothesis\"]\n",
        "  return tokenizer(premise, hypothesis, padding=\"max_length\", truncation=True)\n",
        "\n",
        "model_name = \"bert-base-uncased\"\n",
        "\n",
        "# Load tokenizer and model\n",
        "tokenizer = AutoTokenizer.from_pretrained(model_name)\n",
        "model = AutoModelForSequenceClassification.from_pretrained(model_name, num_labels=3)\n",
        "\n",
        "# Apply preprocessing to training and validation sets\n",
        "train_encoded = snli[\"train\"].map(preprocess_function, batched=True)\n",
        "val_encoded = snli[\"validation\"].map(preprocess_function, batched=True)\n",
        "\n",
        "# Training function (replace with your training loop)\n",
        "from transformers import TrainingArguments, Trainer\n",
        "\n",
        "training_args = TrainingArguments(\n",
        "    output_dir=\"./results\",  # Replace with your output directory\n",
        "    per_device_train_batch_size=2,\n",
        "    per_device_eval_batch_size=2,\n",
        "    num_train_epochs=1,\n",
        ")\n",
        "\n",
        "trainer = Trainer(\n",
        "    model=model,\n",
        "    args=training_args,\n",
        "    train_dataset=train_encoded,\n",
        "    eval_dataset=val_encoded,\n",
        ")\n",
        "\n",
        "trainer.train()\n",
        "\n",
        "# Evaluation function (replace with your metrics)\n",
        "from sklearn.metrics import accuracy_score\n",
        "\n",
        "predictions, labels = trainer.predict(val_encoded)\n",
        "accuracy = accuracy_score(labels, predictions.argmax(-1))\n",
        "print(f\"Accuracy on validation set: {accuracy:.4f}\")"
      ]
    },
    {
      "cell_type": "markdown",
      "metadata": {
        "id": "0Bv3Z6oWAgX6"
      },
      "source": [
        "# Congratulations! You have completed the lab\n"
      ]
    },
    {
      "cell_type": "markdown",
      "metadata": {
        "id": "CcWXOc3nAgX6"
      },
      "source": [
        "## Authors\n"
      ]
    },
    {
      "cell_type": "markdown",
      "metadata": {
        "id": "OvbaTamYAgX6"
      },
      "source": [
        "[Fateme Akbari](https://author.skills.network/instructors/fateme_akbari)\n"
      ]
    },
    {
      "cell_type": "markdown",
      "metadata": {
        "id": "Z7dxD7QnAgX6"
      },
      "source": [
        "© Copyright IBM Corporation. All rights reserved.\n"
      ]
    }
  ],
  "metadata": {
    "kernelspec": {
      "display_name": "Python 3 (ipykernel)",
      "language": "python",
      "name": "python3"
    },
    "language_info": {
      "codemirror_mode": {
        "name": "ipython",
        "version": 3
      },
      "file_extension": ".py",
      "mimetype": "text/x-python",
      "name": "python",
      "nbconvert_exporter": "python",
      "pygments_lexer": "ipython3",
      "version": "3.11.9"
    },
    "prev_pub_hash": "d29458bb8fd401d00186b91d1862005b641aee6fb66e97a6a065470e2b2b2981",
    "colab": {
      "provenance": [],
      "include_colab_link": true
    }
  },
  "nbformat": 4,
  "nbformat_minor": 0
}